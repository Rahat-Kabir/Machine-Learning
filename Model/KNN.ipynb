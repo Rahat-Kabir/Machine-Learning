{
 "cells": [
  {
   "cell_type": "code",
   "execution_count": 57,
   "id": "4f879360",
   "metadata": {},
   "outputs": [],
   "source": [
    "import pandas as pd\n",
    "import numpy as np\n",
    "import seaborn as sns\n",
    "from matplotlib import pyplot as plt\n",
    "%matplotlib inline"
   ]
  },
  {
   "cell_type": "code",
   "execution_count": 58,
   "id": "4dd3a980",
   "metadata": {},
   "outputs": [],
   "source": [
    "# Load dataset\n",
    "df = pd.read_csv('diabetes_prediction_dataset.csv')"
   ]
  },
  {
   "cell_type": "code",
   "execution_count": 59,
   "id": "d54afdf2",
   "metadata": {},
   "outputs": [
    {
     "name": "stdout",
     "output_type": "stream",
     "text": [
      "<class 'pandas.core.frame.DataFrame'>\n",
      "RangeIndex: 100000 entries, 0 to 99999\n",
      "Data columns (total 9 columns):\n",
      " #   Column               Non-Null Count   Dtype  \n",
      "---  ------               --------------   -----  \n",
      " 0   gender               100000 non-null  object \n",
      " 1   age                  100000 non-null  float64\n",
      " 2   hypertension         100000 non-null  int64  \n",
      " 3   heart_disease        100000 non-null  int64  \n",
      " 4   smoking_history      100000 non-null  object \n",
      " 5   bmi                  100000 non-null  float64\n",
      " 6   HbA1c_level          100000 non-null  float64\n",
      " 7   blood_glucose_level  100000 non-null  int64  \n",
      " 8   diabetes             100000 non-null  int64  \n",
      "dtypes: float64(3), int64(4), object(2)\n",
      "memory usage: 6.9+ MB\n"
     ]
    }
   ],
   "source": [
    "df.info()"
   ]
  },
  {
   "cell_type": "code",
   "execution_count": 60,
   "id": "f681c4b4",
   "metadata": {},
   "outputs": [
    {
     "data": {
      "text/html": [
       "<div>\n",
       "<style scoped>\n",
       "    .dataframe tbody tr th:only-of-type {\n",
       "        vertical-align: middle;\n",
       "    }\n",
       "\n",
       "    .dataframe tbody tr th {\n",
       "        vertical-align: top;\n",
       "    }\n",
       "\n",
       "    .dataframe thead th {\n",
       "        text-align: right;\n",
       "    }\n",
       "</style>\n",
       "<table border=\"1\" class=\"dataframe\">\n",
       "  <thead>\n",
       "    <tr style=\"text-align: right;\">\n",
       "      <th></th>\n",
       "      <th>gender</th>\n",
       "      <th>age</th>\n",
       "      <th>hypertension</th>\n",
       "      <th>heart_disease</th>\n",
       "      <th>smoking_history</th>\n",
       "      <th>bmi</th>\n",
       "      <th>HbA1c_level</th>\n",
       "      <th>blood_glucose_level</th>\n",
       "      <th>diabetes</th>\n",
       "    </tr>\n",
       "  </thead>\n",
       "  <tbody>\n",
       "    <tr>\n",
       "      <th>0</th>\n",
       "      <td>Female</td>\n",
       "      <td>80.0</td>\n",
       "      <td>0</td>\n",
       "      <td>1</td>\n",
       "      <td>never</td>\n",
       "      <td>25.19</td>\n",
       "      <td>6.6</td>\n",
       "      <td>140</td>\n",
       "      <td>0</td>\n",
       "    </tr>\n",
       "    <tr>\n",
       "      <th>1</th>\n",
       "      <td>Female</td>\n",
       "      <td>54.0</td>\n",
       "      <td>0</td>\n",
       "      <td>0</td>\n",
       "      <td>No Info</td>\n",
       "      <td>27.32</td>\n",
       "      <td>6.6</td>\n",
       "      <td>80</td>\n",
       "      <td>0</td>\n",
       "    </tr>\n",
       "    <tr>\n",
       "      <th>2</th>\n",
       "      <td>Male</td>\n",
       "      <td>28.0</td>\n",
       "      <td>0</td>\n",
       "      <td>0</td>\n",
       "      <td>never</td>\n",
       "      <td>27.32</td>\n",
       "      <td>5.7</td>\n",
       "      <td>158</td>\n",
       "      <td>0</td>\n",
       "    </tr>\n",
       "    <tr>\n",
       "      <th>3</th>\n",
       "      <td>Female</td>\n",
       "      <td>36.0</td>\n",
       "      <td>0</td>\n",
       "      <td>0</td>\n",
       "      <td>current</td>\n",
       "      <td>23.45</td>\n",
       "      <td>5.0</td>\n",
       "      <td>155</td>\n",
       "      <td>0</td>\n",
       "    </tr>\n",
       "    <tr>\n",
       "      <th>4</th>\n",
       "      <td>Male</td>\n",
       "      <td>76.0</td>\n",
       "      <td>1</td>\n",
       "      <td>1</td>\n",
       "      <td>current</td>\n",
       "      <td>20.14</td>\n",
       "      <td>4.8</td>\n",
       "      <td>155</td>\n",
       "      <td>0</td>\n",
       "    </tr>\n",
       "  </tbody>\n",
       "</table>\n",
       "</div>"
      ],
      "text/plain": [
       "   gender   age  hypertension  heart_disease smoking_history    bmi  \\\n",
       "0  Female  80.0             0              1           never  25.19   \n",
       "1  Female  54.0             0              0         No Info  27.32   \n",
       "2    Male  28.0             0              0           never  27.32   \n",
       "3  Female  36.0             0              0         current  23.45   \n",
       "4    Male  76.0             1              1         current  20.14   \n",
       "\n",
       "   HbA1c_level  blood_glucose_level  diabetes  \n",
       "0          6.6                  140         0  \n",
       "1          6.6                   80         0  \n",
       "2          5.7                  158         0  \n",
       "3          5.0                  155         0  \n",
       "4          4.8                  155         0  "
      ]
     },
     "execution_count": 60,
     "metadata": {},
     "output_type": "execute_result"
    }
   ],
   "source": [
    "df.head()"
   ]
  },
  {
   "cell_type": "markdown",
   "id": "052b838e",
   "metadata": {},
   "source": [
    "# Label Encoder"
   ]
  },
  {
   "cell_type": "code",
   "execution_count": 61,
   "id": "327c6ec4",
   "metadata": {},
   "outputs": [],
   "source": [
    "from sklearn.preprocessing import LabelEncoder\n",
    "encoder = LabelEncoder()"
   ]
  },
  {
   "cell_type": "code",
   "execution_count": 62,
   "id": "75b7922a",
   "metadata": {},
   "outputs": [
    {
     "name": "stdout",
     "output_type": "stream",
     "text": [
      "Labels : ['Female' 'Male' 'Other']\n",
      "Encodings: [0 1 2]\n"
     ]
    }
   ],
   "source": [
    "gender=encoder.fit_transform(df['gender'])\n",
    "# Print the encoding\n",
    "print(\"Labels :\",encoder.classes_)\n",
    "print(\"Encodings:\",encoder.transform(encoder.classes_))"
   ]
  },
  {
   "cell_type": "code",
   "execution_count": 63,
   "id": "cc8a25c9",
   "metadata": {},
   "outputs": [
    {
     "name": "stdout",
     "output_type": "stream",
     "text": [
      "Labels: ['No Info' 'current' 'ever' 'former' 'never' 'not current']\n",
      "Encodings: [0 1 2 3 4 5]\n"
     ]
    }
   ],
   "source": [
    "smoking_history = encoder.fit_transform(df['smoking_history'])\n",
    "# Print the encodings\n",
    "print(\"Labels:\",encoder.classes_)\n",
    "print(\"Encodings:\",encoder.transform(encoder.classes_))"
   ]
  },
  {
   "cell_type": "code",
   "execution_count": 64,
   "id": "5073a8f9",
   "metadata": {},
   "outputs": [],
   "source": [
    "# Replace encoded Labels with main df\n",
    "df['gender'] = gender\n",
    "df['smoking_history'] = smoking_history"
   ]
  },
  {
   "cell_type": "code",
   "execution_count": 65,
   "id": "2cc886aa",
   "metadata": {},
   "outputs": [
    {
     "data": {
      "text/html": [
       "<div>\n",
       "<style scoped>\n",
       "    .dataframe tbody tr th:only-of-type {\n",
       "        vertical-align: middle;\n",
       "    }\n",
       "\n",
       "    .dataframe tbody tr th {\n",
       "        vertical-align: top;\n",
       "    }\n",
       "\n",
       "    .dataframe thead th {\n",
       "        text-align: right;\n",
       "    }\n",
       "</style>\n",
       "<table border=\"1\" class=\"dataframe\">\n",
       "  <thead>\n",
       "    <tr style=\"text-align: right;\">\n",
       "      <th></th>\n",
       "      <th>gender</th>\n",
       "      <th>age</th>\n",
       "      <th>hypertension</th>\n",
       "      <th>heart_disease</th>\n",
       "      <th>smoking_history</th>\n",
       "      <th>bmi</th>\n",
       "      <th>HbA1c_level</th>\n",
       "      <th>blood_glucose_level</th>\n",
       "      <th>diabetes</th>\n",
       "    </tr>\n",
       "  </thead>\n",
       "  <tbody>\n",
       "    <tr>\n",
       "      <th>0</th>\n",
       "      <td>0</td>\n",
       "      <td>80.0</td>\n",
       "      <td>0</td>\n",
       "      <td>1</td>\n",
       "      <td>4</td>\n",
       "      <td>25.19</td>\n",
       "      <td>6.6</td>\n",
       "      <td>140</td>\n",
       "      <td>0</td>\n",
       "    </tr>\n",
       "    <tr>\n",
       "      <th>1</th>\n",
       "      <td>0</td>\n",
       "      <td>54.0</td>\n",
       "      <td>0</td>\n",
       "      <td>0</td>\n",
       "      <td>0</td>\n",
       "      <td>27.32</td>\n",
       "      <td>6.6</td>\n",
       "      <td>80</td>\n",
       "      <td>0</td>\n",
       "    </tr>\n",
       "    <tr>\n",
       "      <th>2</th>\n",
       "      <td>1</td>\n",
       "      <td>28.0</td>\n",
       "      <td>0</td>\n",
       "      <td>0</td>\n",
       "      <td>4</td>\n",
       "      <td>27.32</td>\n",
       "      <td>5.7</td>\n",
       "      <td>158</td>\n",
       "      <td>0</td>\n",
       "    </tr>\n",
       "    <tr>\n",
       "      <th>3</th>\n",
       "      <td>0</td>\n",
       "      <td>36.0</td>\n",
       "      <td>0</td>\n",
       "      <td>0</td>\n",
       "      <td>1</td>\n",
       "      <td>23.45</td>\n",
       "      <td>5.0</td>\n",
       "      <td>155</td>\n",
       "      <td>0</td>\n",
       "    </tr>\n",
       "    <tr>\n",
       "      <th>4</th>\n",
       "      <td>1</td>\n",
       "      <td>76.0</td>\n",
       "      <td>1</td>\n",
       "      <td>1</td>\n",
       "      <td>1</td>\n",
       "      <td>20.14</td>\n",
       "      <td>4.8</td>\n",
       "      <td>155</td>\n",
       "      <td>0</td>\n",
       "    </tr>\n",
       "  </tbody>\n",
       "</table>\n",
       "</div>"
      ],
      "text/plain": [
       "   gender   age  hypertension  heart_disease  smoking_history    bmi  \\\n",
       "0       0  80.0             0              1                4  25.19   \n",
       "1       0  54.0             0              0                0  27.32   \n",
       "2       1  28.0             0              0                4  27.32   \n",
       "3       0  36.0             0              0                1  23.45   \n",
       "4       1  76.0             1              1                1  20.14   \n",
       "\n",
       "   HbA1c_level  blood_glucose_level  diabetes  \n",
       "0          6.6                  140         0  \n",
       "1          6.6                   80         0  \n",
       "2          5.7                  158         0  \n",
       "3          5.0                  155         0  \n",
       "4          4.8                  155         0  "
      ]
     },
     "execution_count": 65,
     "metadata": {},
     "output_type": "execute_result"
    }
   ],
   "source": [
    "df.head()"
   ]
  },
  {
   "cell_type": "markdown",
   "id": "1841919f",
   "metadata": {},
   "source": [
    "# Dataset Split"
   ]
  },
  {
   "cell_type": "code",
   "execution_count": 66,
   "id": "8dc6d49d",
   "metadata": {},
   "outputs": [],
   "source": [
    "from sklearn.model_selection import train_test_split"
   ]
  },
  {
   "cell_type": "code",
   "execution_count": 67,
   "id": "81c8a4f6",
   "metadata": {},
   "outputs": [],
   "source": [
    "y = df['diabetes']\n",
    "x = df.drop(columns='diabetes')"
   ]
  },
  {
   "cell_type": "code",
   "execution_count": 68,
   "id": "fd2fedf0",
   "metadata": {},
   "outputs": [],
   "source": [
    "x_train,x_test,y_train,y_test = train_test_split(x,y,random_state=42,test_size=0.2,stratify=df['diabetes'])"
   ]
  },
  {
   "cell_type": "code",
   "execution_count": 81,
   "id": "88b3b229",
   "metadata": {},
   "outputs": [
    {
     "name": "stdout",
     "output_type": "stream",
     "text": [
      "(80000, 8)\n",
      "(80000,)\n",
      "(20000, 8)\n",
      "(20000,)\n"
     ]
    }
   ],
   "source": [
    "print(x_train.shape)\n",
    "print(y_train.shape)\n",
    "\n",
    "print(x_test.shape)\n",
    "print(y_test.shape)"
   ]
  },
  {
   "cell_type": "markdown",
   "id": "2672d30b",
   "metadata": {},
   "source": [
    "# Standardization"
   ]
  },
  {
   "cell_type": "code",
   "execution_count": 82,
   "id": "b2480991",
   "metadata": {},
   "outputs": [],
   "source": [
    "from sklearn.preprocessing import StandardScaler\n",
    "\n"
   ]
  },
  {
   "cell_type": "code",
   "execution_count": 83,
   "id": "aa4d6785",
   "metadata": {},
   "outputs": [],
   "source": [
    "scaler = StandardScaler()"
   ]
  },
  {
   "cell_type": "code",
   "execution_count": 84,
   "id": "136dedf6",
   "metadata": {},
   "outputs": [],
   "source": [
    "x_train = pd.DataFrame(scaler.fit_transform(x_train), columns=x_train.columns)\n",
    "x_test = pd.DataFrame(scaler.fit_transform(x_test),columns=x_test.columns)"
   ]
  },
  {
   "cell_type": "code",
   "execution_count": 73,
   "id": "89f07cc6",
   "metadata": {},
   "outputs": [
    {
     "data": {
      "text/html": [
       "<div>\n",
       "<style scoped>\n",
       "    .dataframe tbody tr th:only-of-type {\n",
       "        vertical-align: middle;\n",
       "    }\n",
       "\n",
       "    .dataframe tbody tr th {\n",
       "        vertical-align: top;\n",
       "    }\n",
       "\n",
       "    .dataframe thead th {\n",
       "        text-align: right;\n",
       "    }\n",
       "</style>\n",
       "<table border=\"1\" class=\"dataframe\">\n",
       "  <thead>\n",
       "    <tr style=\"text-align: right;\">\n",
       "      <th></th>\n",
       "      <th>gender</th>\n",
       "      <th>age</th>\n",
       "      <th>hypertension</th>\n",
       "      <th>heart_disease</th>\n",
       "      <th>smoking_history</th>\n",
       "      <th>bmi</th>\n",
       "      <th>HbA1c_level</th>\n",
       "      <th>blood_glucose_level</th>\n",
       "    </tr>\n",
       "  </thead>\n",
       "  <tbody>\n",
       "    <tr>\n",
       "      <th>0</th>\n",
       "      <td>-0.841697</td>\n",
       "      <td>1.691070</td>\n",
       "      <td>3.516004</td>\n",
       "      <td>-0.202792</td>\n",
       "      <td>0.432427</td>\n",
       "      <td>0.000472</td>\n",
       "      <td>0.908249</td>\n",
       "      <td>0.170207</td>\n",
       "    </tr>\n",
       "    <tr>\n",
       "      <th>1</th>\n",
       "      <td>-0.841697</td>\n",
       "      <td>-1.016460</td>\n",
       "      <td>-0.284414</td>\n",
       "      <td>-0.202792</td>\n",
       "      <td>0.961705</td>\n",
       "      <td>-0.321772</td>\n",
       "      <td>-0.959680</td>\n",
       "      <td>-0.297058</td>\n",
       "    </tr>\n",
       "    <tr>\n",
       "      <th>2</th>\n",
       "      <td>-0.841697</td>\n",
       "      <td>-0.261902</td>\n",
       "      <td>-0.284414</td>\n",
       "      <td>-0.202792</td>\n",
       "      <td>-1.155408</td>\n",
       "      <td>-0.205824</td>\n",
       "      <td>1.001645</td>\n",
       "      <td>1.522815</td>\n",
       "    </tr>\n",
       "    <tr>\n",
       "      <th>3</th>\n",
       "      <td>-0.841697</td>\n",
       "      <td>-0.306288</td>\n",
       "      <td>-0.284414</td>\n",
       "      <td>-0.202792</td>\n",
       "      <td>-0.626129</td>\n",
       "      <td>-0.585289</td>\n",
       "      <td>0.441267</td>\n",
       "      <td>0.514507</td>\n",
       "    </tr>\n",
       "    <tr>\n",
       "      <th>4</th>\n",
       "      <td>-0.841697</td>\n",
       "      <td>-0.528217</td>\n",
       "      <td>-0.284414</td>\n",
       "      <td>-0.202792</td>\n",
       "      <td>-1.155408</td>\n",
       "      <td>-0.707259</td>\n",
       "      <td>-0.492698</td>\n",
       "      <td>-1.182401</td>\n",
       "    </tr>\n",
       "  </tbody>\n",
       "</table>\n",
       "</div>"
      ],
      "text/plain": [
       "     gender       age  hypertension  heart_disease  smoking_history       bmi  \\\n",
       "0 -0.841697  1.691070      3.516004      -0.202792         0.432427  0.000472   \n",
       "1 -0.841697 -1.016460     -0.284414      -0.202792         0.961705 -0.321772   \n",
       "2 -0.841697 -0.261902     -0.284414      -0.202792        -1.155408 -0.205824   \n",
       "3 -0.841697 -0.306288     -0.284414      -0.202792        -0.626129 -0.585289   \n",
       "4 -0.841697 -0.528217     -0.284414      -0.202792        -1.155408 -0.707259   \n",
       "\n",
       "   HbA1c_level  blood_glucose_level  \n",
       "0     0.908249             0.170207  \n",
       "1    -0.959680            -0.297058  \n",
       "2     1.001645             1.522815  \n",
       "3     0.441267             0.514507  \n",
       "4    -0.492698            -1.182401  "
      ]
     },
     "execution_count": 73,
     "metadata": {},
     "output_type": "execute_result"
    }
   ],
   "source": [
    "x_train.head()"
   ]
  },
  {
   "cell_type": "code",
   "execution_count": 74,
   "id": "0bd9a343",
   "metadata": {},
   "outputs": [
    {
     "data": {
      "text/html": [
       "<div>\n",
       "<style scoped>\n",
       "    .dataframe tbody tr th:only-of-type {\n",
       "        vertical-align: middle;\n",
       "    }\n",
       "\n",
       "    .dataframe tbody tr th {\n",
       "        vertical-align: top;\n",
       "    }\n",
       "\n",
       "    .dataframe thead th {\n",
       "        text-align: right;\n",
       "    }\n",
       "</style>\n",
       "<table border=\"1\" class=\"dataframe\">\n",
       "  <thead>\n",
       "    <tr style=\"text-align: right;\">\n",
       "      <th></th>\n",
       "      <th>gender</th>\n",
       "      <th>age</th>\n",
       "      <th>hypertension</th>\n",
       "      <th>heart_disease</th>\n",
       "      <th>smoking_history</th>\n",
       "      <th>bmi</th>\n",
       "      <th>HbA1c_level</th>\n",
       "      <th>blood_glucose_level</th>\n",
       "    </tr>\n",
       "  </thead>\n",
       "  <tbody>\n",
       "    <tr>\n",
       "      <th>0</th>\n",
       "      <td>-0.838449</td>\n",
       "      <td>-0.259383</td>\n",
       "      <td>-0.284542</td>\n",
       "      <td>-0.20172</td>\n",
       "      <td>0.440942</td>\n",
       "      <td>-0.709427</td>\n",
       "      <td>0.441469</td>\n",
       "      <td>0.538654</td>\n",
       "    </tr>\n",
       "    <tr>\n",
       "      <th>1</th>\n",
       "      <td>-0.838449</td>\n",
       "      <td>-0.481957</td>\n",
       "      <td>-0.284542</td>\n",
       "      <td>-0.20172</td>\n",
       "      <td>0.969839</td>\n",
       "      <td>-0.002474</td>\n",
       "      <td>0.254644</td>\n",
       "      <td>-0.292838</td>\n",
       "    </tr>\n",
       "    <tr>\n",
       "      <th>2</th>\n",
       "      <td>1.191695</td>\n",
       "      <td>0.452855</td>\n",
       "      <td>-0.284542</td>\n",
       "      <td>-0.20172</td>\n",
       "      <td>1.498737</td>\n",
       "      <td>-0.624834</td>\n",
       "      <td>-1.426789</td>\n",
       "      <td>-0.928685</td>\n",
       "    </tr>\n",
       "    <tr>\n",
       "      <th>3</th>\n",
       "      <td>-0.838449</td>\n",
       "      <td>-0.570987</td>\n",
       "      <td>-0.284542</td>\n",
       "      <td>-0.20172</td>\n",
       "      <td>0.969839</td>\n",
       "      <td>0.488465</td>\n",
       "      <td>-0.492660</td>\n",
       "      <td>0.538654</td>\n",
       "    </tr>\n",
       "    <tr>\n",
       "      <th>4</th>\n",
       "      <td>1.191695</td>\n",
       "      <td>0.853489</td>\n",
       "      <td>-0.284542</td>\n",
       "      <td>-0.20172</td>\n",
       "      <td>0.969839</td>\n",
       "      <td>-0.068940</td>\n",
       "      <td>0.254644</td>\n",
       "      <td>-1.173242</td>\n",
       "    </tr>\n",
       "  </tbody>\n",
       "</table>\n",
       "</div>"
      ],
      "text/plain": [
       "     gender       age  hypertension  heart_disease  smoking_history       bmi  \\\n",
       "0 -0.838449 -0.259383     -0.284542       -0.20172         0.440942 -0.709427   \n",
       "1 -0.838449 -0.481957     -0.284542       -0.20172         0.969839 -0.002474   \n",
       "2  1.191695  0.452855     -0.284542       -0.20172         1.498737 -0.624834   \n",
       "3 -0.838449 -0.570987     -0.284542       -0.20172         0.969839  0.488465   \n",
       "4  1.191695  0.853489     -0.284542       -0.20172         0.969839 -0.068940   \n",
       "\n",
       "   HbA1c_level  blood_glucose_level  \n",
       "0     0.441469             0.538654  \n",
       "1     0.254644            -0.292838  \n",
       "2    -1.426789            -0.928685  \n",
       "3    -0.492660             0.538654  \n",
       "4     0.254644            -1.173242  "
      ]
     },
     "execution_count": 74,
     "metadata": {},
     "output_type": "execute_result"
    }
   ],
   "source": [
    "x_test.head()"
   ]
  },
  {
   "cell_type": "markdown",
   "id": "4ed100ac",
   "metadata": {},
   "source": [
    "# KNN Classifier Model"
   ]
  },
  {
   "cell_type": "code",
   "execution_count": 75,
   "id": "7b5a47ca",
   "metadata": {},
   "outputs": [
    {
     "data": {
      "text/plain": [
       "KNeighborsClassifier()"
      ]
     },
     "execution_count": 75,
     "metadata": {},
     "output_type": "execute_result"
    }
   ],
   "source": [
    "#Step-1 : Import Model\n",
    "from sklearn.neighbors import KNeighborsClassifier\n",
    "\n",
    "#Step-2 : Create an object of the model\n",
    "knn=KNeighborsClassifier(n_neighbors=5)\n",
    "\n",
    "\n",
    "#step-3 : Fit the model with training set or train model\n",
    "knn.fit(x_train,y_train)"
   ]
  },
  {
   "cell_type": "code",
   "execution_count": 76,
   "id": "2d530650",
   "metadata": {},
   "outputs": [],
   "source": [
    "#step-4 : Get prediction from the model\n",
    "y_pred_knn = knn.predict(x_test)"
   ]
  },
  {
   "cell_type": "code",
   "execution_count": 77,
   "id": "a41fa9b3",
   "metadata": {},
   "outputs": [
    {
     "name": "stdout",
     "output_type": "stream",
     "text": [
      "              precision    recall  f1-score   support\n",
      "\n",
      "           0       0.97      0.99      0.98     18300\n",
      "           1       0.88      0.63      0.74      1700\n",
      "\n",
      "    accuracy                           0.96     20000\n",
      "   macro avg       0.93      0.81      0.86     20000\n",
      "weighted avg       0.96      0.96      0.96     20000\n",
      "\n"
     ]
    }
   ],
   "source": [
    "# Step-5: Model preformance measure\n",
    "from sklearn.metrics import classification_report, accuracy_score, confusion_matrix\n",
    "print(classification_report(y_test,y_pred_knn))"
   ]
  },
  {
   "cell_type": "code",
   "execution_count": 78,
   "id": "9568f7f7",
   "metadata": {},
   "outputs": [
    {
     "name": "stdout",
     "output_type": "stream",
     "text": [
      "Test Accuracy: 0.9617\n",
      "Training Accuracy: 0.9699125\n"
     ]
    }
   ],
   "source": [
    "# Train and Test Accuracy\n",
    "print('Test Accuracy:',accuracy_score(y_test,y_pred_knn))\n",
    "print('Training Accuracy:',accuracy_score(y_train,knn.predict(x_train)))"
   ]
  },
  {
   "cell_type": "code",
   "execution_count": 80,
   "id": "54cdde8a",
   "metadata": {},
   "outputs": [
    {
     "data": {
      "text/plain": [
       "<AxesSubplot:title={'center':'Confusion Matrix'}, xlabel='Predicted label', ylabel='True label'>"
      ]
     },
     "execution_count": 80,
     "metadata": {},
     "output_type": "execute_result"
    },
    {
     "data": {
      "image/png": "[encoded data removed]",
      "text/plain": [
       "<Figure size 432x288 with 2 Axes>"
      ]
     },
     "metadata": {
      "needs_background": "light"
     },
     "output_type": "display_data"
    }
   ],
   "source": [
    "# See Confusion Matrix\n",
    "import scikitplot as skplt\n",
    "skplt.metrics.plot_confusion_matrix(y_test,y_pred_knn)"
   ]
  },
  {
   "cell_type": "markdown",
   "id": "680fa9c4",
   "metadata": {},
   "source": [
    "# END"
   ]
  }
 ],
 "metadata": {
  "kernelspec": {
   "display_name": "Python 3 (ipykernel)",
   "language": "python",
   "name": "python3"
  },
  "language_info": {
   "codemirror_mode": {
    "name": "ipython",
    "version": 3
   },
   "file_extension": ".py",
   "mimetype": "text/x-python",
   "name": "python",
   "nbconvert_exporter": "python",
   "pygments_lexer": "ipython3",
   "version": "3.9.12"
  }
 },
 "nbformat": 4,
 "nbformat_minor": 5
}
